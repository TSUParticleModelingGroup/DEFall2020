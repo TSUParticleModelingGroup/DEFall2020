{
  "nbformat": 4,
  "nbformat_minor": 0,
  "metadata": {
    "kernelspec": {
      "display_name": "Python 3",
      "language": "python",
      "name": "python3"
    },
    "language_info": {
      "codemirror_mode": {
        "name": "ipython",
        "version": 3
      },
      "file_extension": ".py",
      "mimetype": "text/x-python",
      "name": "python",
      "nbconvert_exporter": "python",
      "pygments_lexer": "ipython3",
      "version": "3.6.0"
    },
    "colab": {
      "name": "SpringGraphNoForcingFunction.ipynb",
      "provenance": [],
      "include_colab_link": true
    }
  },
  "cells": [
    {
      "cell_type": "markdown",
      "metadata": {
        "id": "view-in-github",
        "colab_type": "text"
      },
      "source": [
        "<a href=\"https://colab.research.google.com/github/TSUParticleModelingGroup/DEFall2020/blob/master/SpringGraphNoForcingFunction.ipynb\" target=\"_parent\"><img src=\"https://colab.research.google.com/assets/colab-badge.svg\" alt=\"Open In Colab\"/></a>"
      ]
    },
    {
      "cell_type": "code",
      "metadata": {
        "id": "gZ_kWOCFkBEn",
        "outputId": "381eae48-d008-4550-96f4-b0d0f46a74c1",
        "colab": {
          "base_uri": "https://localhost:8080/",
          "height": 527
        }
      },
      "source": [
        "import math\n",
        "import numpy as np\n",
        "from matplotlib import pyplot as plt\n",
        "\n",
        "# Sets the size of the window to draw in\n",
        "plt.figure(figsize=(8,8))\n",
        "\n",
        "# Setting up the time values\n",
        "tStart = 0.0\n",
        "totalRunTime = 30.0\n",
        "tStop = tStart + totalRunTime\n",
        "dt = 0.01\n",
        "\n",
        "# Setting up the system constants\n",
        "m = 10.0  # Mass of block\n",
        "k = 10.0  #Spring strength\n",
        "c = 12.0  # Air resistance \n",
        "f0 = 5.0  # Starting position\n",
        "v0 = 0.0  # Starting velocity\n",
        "\n",
        "#The following code sets up the axes system to draw on\n",
        "tMin = tStart\n",
        "tMax = tStop\n",
        "fMin = -5\n",
        "fMax = 5\n",
        "plt.axis([tMin, tMax, fMin, fMax])\n",
        "plt.ylabel('f', fontsize=20)\n",
        "plt.xlabel('t', fontsize=20)\n",
        "plt.title('Block on a spring. No forcing function.', fontsize=20)\n",
        "\n",
        "\n",
        "def f(t):\n",
        "    d = c*c -4.0*m*k\n",
        "    if(d < 0.0):\n",
        "      a = -c/(2.0*m)\n",
        "      b = math.sqrt(-d)/(2.0*m)\n",
        "      c1 = (v0-a*f0)/b\n",
        "      c2 = f0\n",
        "      return(math.exp(a*t)*(c1*math.sin(b*t) + c2*math.cos(b*t)))\n",
        "    if(d == 0.0):\n",
        "      a = -c/(2.0*m)\n",
        "      c1 = f0\n",
        "      c2 = v0 - a*f0\n",
        "      return(c1*math.exp(a*t) + c2*t*math.exp(a*t)) \n",
        "    if(0.0 < d):\n",
        "      a = -c/(2.0*m)\n",
        "      b = math.sqrt(d)/(2.0*m)\n",
        "      c1 = (v0-f0*(a - b))/(2.0*b)\n",
        "      c2 = f0 - c1\n",
        "      return(math.exp(a*t)*(c1*math.exp(b*t) + c2*math.exp(-b*t)))     \n",
        "\n",
        "t = tStart\n",
        "while t < tStop:\n",
        "    lines = plt.plot([t, t+dt], [f(t),f(t+dt)], color='b', linewidth=1.0)\n",
        "    t = t + dt\n",
        "\n",
        "plt.show()\n",
        "        \n",
        "\n"
      ],
      "execution_count": null,
      "outputs": [
        {
          "output_type": "display_data",
          "data": {
            "image/png": "[encoded data removed]",
            "text/plain": [
              "<Figure size 576x576 with 1 Axes>"
            ]
          },
          "metadata": {
            "tags": [],
            "needs_background": "light"
          }
        }
      ]
    }
  ]
}