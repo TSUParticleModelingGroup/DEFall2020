{
  "nbformat": 4,
  "nbformat_minor": 0,
  "metadata": {
    "colab": {
      "name": "EulersMethod2.ipynb",
      "provenance": [],
      "authorship_tag": "ABX9TyNWpUBUfv6irxfAzU3dPuPT",
      "include_colab_link": true
    },
    "kernelspec": {
      "name": "python3",
      "display_name": "Python 3"
    }
  },
  "cells": [
    {
      "cell_type": "markdown",
      "metadata": {
        "id": "view-in-github",
        "colab_type": "text"
      },
      "source": [
        "<a href=\"https://colab.research.google.com/github/TSUParticleModelingGroup/DEFall2020/blob/master/EulersMethod2.ipynb\" target=\"_parent\"><img src=\"https://colab.research.google.com/assets/colab-badge.svg\" alt=\"Open In Colab\"/></a>"
      ]
    },
    {
      "cell_type": "code",
      "metadata": {
        "id": "03D5hot-mirD",
        "colab_type": "code",
        "colab": {}
      },
      "source": [
        "def G(t,f):\n",
        "  return(f+t)\n",
        "\n",
        "tStart = 0.0\n",
        "fStart = 2.0\n",
        "\n",
        "tStop = 1.0\n",
        "dt = 0.1\n",
        "\n",
        "f= fStart\n",
        "t = tStart\n",
        "print(\"start values\",t,f)\n",
        "while t < tStop:\n",
        "  df = G(t,f)\n",
        "  f = f + dt*df\n",
        "  t = t + dt\n",
        "  print(t,f)\n",
        "print(\"done\")\n",
        "\n",
        "\n"
      ],
      "execution_count": null,
      "outputs": []
    }
  ]
}