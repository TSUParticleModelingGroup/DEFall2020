def G(t,f):
  return(f+t)

tStart = 0.0
fStart = 2.0

tStop = 1.0
dt = 0.1

f= fStart
t = tStart
print("start values",t,f)
while t < tStop:
  df = G(t,f)
  f = f + dt*df
  t = t + dt
  print(t,f)
print("done")
