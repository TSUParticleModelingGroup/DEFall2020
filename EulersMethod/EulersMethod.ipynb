{
  "nbformat": 4,
  "nbformat_minor": 0,
  "metadata": {
    "colab": {
      "name": "EulersMethod.ipynb",
      "provenance": [],
      "include_colab_link": true
    },
    "kernelspec": {
      "name": "python3",
      "display_name": "Python 3"
    }
  },
  "cells": [
    {
      "cell_type": "markdown",
      "metadata": {
        "id": "view-in-github",
        "colab_type": "text"
      },
      "source": [
        "<a href=\"https://colab.research.google.com/github/TSUParticleModelingGroup/DEFall2020/blob/master/EulersMethod/EulersMethod.ipynb\" target=\"_parent\"><img src=\"https://colab.research.google.com/assets/colab-badge.svg\" alt=\"Open In Colab\"/></a>"
      ]
    },
    {
      "cell_type": "code",
      "metadata": {
        "id": "JDrijDEJKwJ8",
        "colab_type": "code",
        "colab": {
          "base_uri": "https://localhost:8080/",
          "height": 246
        },
        "outputId": "60215d19-acfd-49f2-b2ce-b6bd541ba486"
      },
      "source": [
        "def G(t,f):\n",
        "  return(f+t)\n",
        "\n",
        "tStart = 0.0\n",
        "fStart = 2.0\n",
        "\n",
        "tStop = 1.0\n",
        "dt = 0.1\n",
        "\n",
        "f= fStart\n",
        "t = tStart\n",
        "print(\"start values\",t,f)\n",
        "while t < tStop:\n",
        "  df = G(t,f)\n",
        "  f = f + dt*df\n",
        "  t = t + dt\n",
        "  print(t,f)\n",
        "print(\"done\")\n",
        "\n",
        "\n"
      ],
      "execution_count": 1,
      "outputs": [
        {
          "output_type": "stream",
          "text": [
            "start values 0.0 2.0\n",
            "0.1 2.2\n",
            "0.2 2.43\n",
            "0.30000000000000004 2.693\n",
            "0.4 2.9923\n",
            "0.5 3.3315300000000003\n",
            "0.6 3.7146830000000004\n",
            "0.7 4.1461513000000005\n",
            "0.7999999999999999 4.63076643\n",
            "0.8999999999999999 5.1738430730000005\n",
            "0.9999999999999999 5.781227380300001\n",
            "1.0999999999999999 6.459350118330001\n",
            "done\n"
          ],
          "name": "stdout"
        }
      ]
    }
  ]
}