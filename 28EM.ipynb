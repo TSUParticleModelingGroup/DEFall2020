{
  "nbformat": 4,
  "nbformat_minor": 0,
  "metadata": {
    "kernelspec": {
      "display_name": "Python 3",
      "language": "python",
      "name": "python3"
    },
    "language_info": {
      "codemirror_mode": {
        "name": "ipython",
        "version": 3
      },
      "file_extension": ".py",
      "mimetype": "text/x-python",
      "name": "python",
      "nbconvert_exporter": "python",
      "pygments_lexer": "ipython3",
      "version": "3.6.0"
    },
    "colab": {
      "name": "28EM.ipynb",
      "provenance": [],
      "include_colab_link": true
    }
  },
  "cells": [
    {
      "cell_type": "markdown",
      "metadata": {
        "id": "view-in-github",
        "colab_type": "text"
      },
      "source": [
        "<a href=\"https://colab.research.google.com/github/TSUParticleModelingGroup/DEFall2020/blob/master/28EM.ipynb\" target=\"_parent\"><img src=\"https://colab.research.google.com/assets/colab-badge.svg\" alt=\"Open In Colab\"/></a>"
      ]
    },
    {
      "cell_type": "code",
      "metadata": {
        "id": "davBHjIi9lg5",
        "colab": {
          "base_uri": "https://localhost:8080/"
        },
        "outputId": "f2751b11-e2bf-48d9-8703-820e1e472090"
      },
      "source": [
        "import math\n",
        "import numpy as np\n",
        "\n",
        "# Setting the constants for the blocks and springs.\n",
        "m1 = 2.0\n",
        "k1 = 1.0\n",
        "l1 = 0.5\n",
        "\n",
        "m2 = 3.0\n",
        "k2 = 1.0\n",
        "l2 = 1.0\n",
        "\n",
        "# Setting time values.\n",
        "tStart = 0.0\n",
        "totalRunTime = 5.0\n",
        "tStop = tStart + totalRunTime\n",
        "dt = 0.1\n",
        "\n",
        "# Setting initial positions.\n",
        "x1 = 1.0\n",
        "x2 = 3.0\n",
        "\n",
        "# Setting initial velocities.\n",
        "v1 = 0.0\n",
        "v2 = 0.0\n",
        "\n",
        "# Initializing time and printing out initial positions.\n",
        "print('Initial conditions')\n",
        "t = tStart\n",
        "print('t = {0:.3f}, x1 = {1:.4f}, x2 = {2:.4f}'. format(t, x1, x2))\n",
        "\n",
        "# This while loop runs Euler's Method.\n",
        "while t < tStop:\n",
        "  x1new = x1 + v1*dt\n",
        "  x2new = x2 + v2*dt\n",
        "  v1new = v1 + ((k1/m1)*(l1-x1) - (k2/m1)*(l2-(x2-x1)))*dt\n",
        "  v2new = v2 + ((k2/m2)*(l2-(x2-x1)))*dt\n",
        "  t = t + dt\n",
        "  x1 = x1new\n",
        "  x2 = x2new\n",
        "  v1 = v1new\n",
        "  v2 = v2new\n",
        "\n",
        "# Printing out the final results.\n",
        "print('Final results')\n",
        "print('t = {0:.3f}, x1 = {1:.4f}, x2 = {2:.4f}'. format(t, x1, x2))\n",
        "\n"
      ],
      "execution_count": null,
      "outputs": [
        {
          "output_type": "stream",
          "text": [
            "Initial conditions\n",
            "t = 0.000, x1 = 1.0000, x2 = 3.0000\n",
            "Final results\n",
            "t = 5.100, x1 = -0.0780, x2 = 1.1486\n"
          ],
          "name": "stdout"
        }
      ]
    }
  ]
}
