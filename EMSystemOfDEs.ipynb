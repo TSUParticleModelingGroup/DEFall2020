{
  "nbformat": 4,
  "nbformat_minor": 0,
  "metadata": {
    "kernelspec": {
      "display_name": "Python 3",
      "language": "python",
      "name": "python3"
    },
    "language_info": {
      "codemirror_mode": {
        "name": "ipython",
        "version": 3
      },
      "file_extension": ".py",
      "mimetype": "text/x-python",
      "name": "python",
      "nbconvert_exporter": "python",
      "pygments_lexer": "ipython3",
      "version": "3.6.0"
    },
    "colab": {
      "name": "EMSystemOfDEs.ipynb",
      "provenance": [],
      "include_colab_link": true
    }
  },
  "cells": [
    {
      "cell_type": "markdown",
      "metadata": {
        "id": "view-in-github",
        "colab_type": "text"
      },
      "source": [
        "<a href=\"https://colab.research.google.com/github/TSUParticleModelingGroup/DEFall2020/blob/master/EMSystemOfDEs.ipynb\" target=\"_parent\"><img src=\"https://colab.research.google.com/assets/colab-badge.svg\" alt=\"Open In Colab\"/></a>"
      ]
    },
    {
      "cell_type": "code",
      "metadata": {
        "id": "peLduG4cih_s",
        "outputId": "0b2fc603-990a-4866-e31c-3be6533ef3b8",
        "colab": {
          "base_uri": "https://localhost:8080/",
          "height": 35
        }
      },
      "source": [
        "import math\n",
        "import numpy as np\n",
        "from matplotlib import pyplot as plt\n",
        "\n",
        "# The system of coupled DEs follow.\n",
        "def Df(f,g):\n",
        "    \"This is the f differintail equation that will generate the Df\"\n",
        "    return(f+g)\n",
        "\n",
        "def Dg(g,f):\n",
        "    \"This is the g differintail equation that will generate the Dg\"\n",
        "    return(g*g)\n",
        "\n",
        "# Setting up the time values\n",
        "tStart = 0.0\n",
        "totalRunTime = 2.0\n",
        "tStop = tStart + totalRunTime\n",
        "dt = 0.1\n",
        "\n",
        "# Intial conditions for the DEs these should be the values of the functions at the start time\n",
        "fStart = 1.0\n",
        "gStart = 1.0\n",
        "\n",
        "# Euler's Method\n",
        "fOld = fStart\n",
        "gOld = gStart\n",
        "t = tStart\n",
        "while t <= tStop:\n",
        "    fNew = fOld + dt*Df(fOld,gOld)\n",
        "    gNew = gOld + dt*Dg(gOld,fOld)\n",
        "    #print(t, fNew,  gNew) # uncoment this line to see all values\n",
        "    t = t + dt\n",
        "    fOld = fNew\n",
        "    gOld = gNew\n",
        "print(\"Final Values are \", \"t =\", t, \", f =\", fNew, \", g=\",  gNew)\n"
      ],
      "execution_count": null,
      "outputs": [
        {
          "output_type": "stream",
          "text": [
            "Final Values are  t = 2.0000000000000004 , f = 2.3768484804071856e+51 , g= 5.649408698813947e+103\n"
          ],
          "name": "stdout"
        }
      ]
    },
    {
      "cell_type": "code",
      "metadata": {
        "id": "34d16UmDih_w"
      },
      "source": [
        ""
      ],
      "execution_count": null,
      "outputs": []
    }
  ]
}