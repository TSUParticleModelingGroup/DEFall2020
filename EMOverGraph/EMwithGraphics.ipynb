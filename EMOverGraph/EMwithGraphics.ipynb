{
  "nbformat": 4,
  "nbformat_minor": 0,
  "metadata": {
    "kernelspec": {
      "display_name": "Python 3",
      "language": "python",
      "name": "python3"
    },
    "language_info": {
      "codemirror_mode": {
        "name": "ipython",
        "version": 3
      },
      "file_extension": ".py",
      "mimetype": "text/x-python",
      "name": "python",
      "nbconvert_exporter": "python",
      "pygments_lexer": "ipython3",
      "version": "3.6.0"
    },
    "colab": {
      "name": "EMwithGraphics.ipynb",
      "provenance": [],
      "include_colab_link": true
    }
  },
  "cells": [
    {
      "cell_type": "markdown",
      "metadata": {
        "id": "view-in-github",
        "colab_type": "text"
      },
      "source": [
        "<a href=\"https://colab.research.google.com/github/TSUParticleModelingGroup/DEFall2020/blob/master/EMOverGraph/EMwithGraphics.ipynb\" target=\"_parent\"><img src=\"https://colab.research.google.com/assets/colab-badge.svg\" alt=\"Open In Colab\"/></a>"
      ]
    },
    {
      "cell_type": "code",
      "metadata": {
        "id": "gZ_kWOCFkBEn",
        "colab_type": "code",
        "colab": {
          "base_uri": "https://localhost:8080/",
          "height": 545
        },
        "outputId": "218547e8-bca3-45d0-b647-a0f4883fa6b3"
      },
      "source": [
        "import math\n",
        "import numpy as np\n",
        "from matplotlib import pyplot as plt\n",
        "\n",
        "# Sets the size of the window to draw in\n",
        "plt.figure(figsize=(8,8))\n",
        "\n",
        "#The following code axes system to draw on\n",
        "tStart = -5\n",
        "tStop = 5\n",
        "fStart = -5\n",
        "fStop = 5\n",
        "plt.axis([tStart, tStop, fStart, fStop])\n",
        "plt.ylabel('f', fontsize=20)\n",
        "plt.xlabel('t', fontsize=20)\n",
        "plt.title('Euler\\'s Method', fontsize=20)\n",
        "\n",
        "def differentialEquation(f,t):\n",
        "    \"This is the differential equation that will be generating the output.\"\n",
        "    return(f*0.5)\n",
        "\n",
        "# The following code draws Euler's method\n",
        "totalRunTime = 5.0\n",
        "fStart = 1.0\n",
        "tStart = -2.0\n",
        "tStop = tStart + totalRunTime\n",
        "\n",
        "dt = 0.01\n",
        "\n",
        "fOld = fStart\n",
        "t = tStart\n",
        "plt.plot([tStart], [fStart], 'go', ms = 5.0)\n",
        "\n",
        "while t <= tStop:\n",
        "    df = differentialEquation(fOld,t)\n",
        "    fNew = fOld + dt*df\n",
        "    lines = plt.plot([t, t+dt], [fOld,fNew], color='b', linewidth=1.0)\n",
        "    #print(t,fNew) # uncoment this line to see numeric outcomes\n",
        "    t = t + dt\n",
        "    fOld = fNew\n",
        "\n",
        "plt.show()\n",
        "        \n",
        "print(t,fNew)\n",
        "\n"
      ],
      "execution_count": null,
      "outputs": [
        {
          "output_type": "display_data",
          "data": {
            "image/png": "[encoded data removed]",
            "text/plain": [
              "<Figure size 576x576 with 1 Axes>"
            ]
          },
          "metadata": {
            "tags": [],
            "needs_background": "light"
          }
        },
        {
          "output_type": "stream",
          "text": [
            "3.0099999999999816 12.16737630953605\n"
          ],
          "name": "stdout"
        }
      ]
    }
  ]
}